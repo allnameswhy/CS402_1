{
  "nbformat": 4,
  "nbformat_minor": 0,
  "metadata": {
    "colab": {
      "name": "Untitled0.ipynb",
      "provenance": [],
      "collapsed_sections": [],
      "authorship_tag": "ABX9TyMQO2CtzvpjHPGVRKFvdZfJ",
      "include_colab_link": true
    },
    "kernelspec": {
      "name": "python3",
      "display_name": "Python 3"
    },
    "language_info": {
      "name": "python"
    }
  },
  "cells": [
    {
      "cell_type": "markdown",
      "metadata": {
        "id": "view-in-github",
        "colab_type": "text"
      },
      "source": [
        "<a href=\"https://colab.research.google.com/github/allnameswhy/CS402_1/blob/master/Untitled0.ipynb\" target=\"_parent\"><img src=\"https://colab.research.google.com/assets/colab-badge.svg\" alt=\"Open In Colab\"/></a>"
      ]
    },
    {
      "cell_type": "code",
      "source": [
        "import re\n",
        "year_no = re.compile(\"(^\\d{4}-\\d{4}$)|(^\\d{4}$)\")\n",
        "abs_no = re.compile(\"^\\d-\\d+\")\n",
        "test = \"1-1 asd\"\n",
        "if year_no.search(test):\n",
        "  print(\"year\\n\")\n",
        "if abs_no.search(test):\n",
        "  print(\"abs\\n\")\n",
        "  proc_test = re.sub(abs_no, '', test).strip()\n",
        "  print(proc_test)"
      ],
      "metadata": {
        "colab": {
          "base_uri": "https://localhost:8080/"
        },
        "id": "eEvj7-5AejRt",
        "outputId": "6b3adff3-8c5d-4f0d-8ac3-bc346ab07b01"
      },
      "execution_count": null,
      "outputs": [
        {
          "output_type": "stream",
          "name": "stdout",
          "text": [
            "abs\n",
            "\n",
            "asd\n"
          ]
        }
      ]
    },
    {
      "cell_type": "markdown",
      "source": [
        "텍스트 파일 불러오기 <br>\n",
        "줄 단위로 읽어내려가면서 데이터 셋 만들기 <br>\n",
        "{vol, year, category, title, authors, journal, abstract, keyword} <br>\n",
        "페이지 수 + 온점까지가 journal 정보 <br>"
      ],
      "metadata": {
        "id": "egbGW7a_eKMK"
      }
    },
    {
      "cell_type": "code",
      "source": [
        "import re\n",
        "\n",
        "# STDIN으로 vol받아서 해당되는 텍스트파일 열기\n",
        "raw = open(\"resource/vol01.txt\", \"r\")\n",
        "raw_line_tokenized = []\n",
        "vol = \"01\"\n",
        "\n",
        "# 각 줄에서 attribute 힌트를 주는 문자열 목록\n",
        "year_re = re.compile(\"(^\\d{4}-\\d{4}$)|(^\\d{4}$)\")\n",
        "part_re = re.complie(\"PART\")\n",
        "abs_re = re.compile(\"^\\d-\\d+\")\n",
        "jour_re = re.compile(\"\")\n",
        "\n",
        "is_title = False\n",
        "is_abs = False\n",
        "\n",
        "while True:\n",
        "  line = raw.readline()\n",
        "  line.strip() # 좌우 공백 제거\n",
        "\n",
        "  if year_re.search(line): # 다음 line이 \"ABSTRACT\"인지 확인하고 year값 넘김\n",
        "    next_line = raw.readline()\n",
        "    next_line.strip()\n",
        "    if next_line == \"ABSTRACTS\":\n",
        "      year = line\n",
        "\n",
        "  elif part_re.search(line): # 다음 라인을 읽어 category값 넘김\n",
        "    next_line = raw.readline()\n",
        "    next_line.strip()\n",
        "    category = next_line\n",
        "\n",
        "  elif abs_re.search(line): # 여기서부터 메타데이터이므로 line을 별도 저장하고 넘어감\n",
        "    is_title = True\n",
        "    line = re.sub(abs_re, '', line).strip()\n",
        "    \n",
        "\n",
        "  elif jour_re.search(line): # 여기까지가 메타데이터이므로 별도 저장한 값들을 다시 스트링으로 복원시키고 attirbute 값 넘김\n",
        "\n",
        "raw.close()"
      ],
      "metadata": {
        "colab": {
          "base_uri": "https://localhost:8080/",
          "height": 136
        },
        "id": "op7uK1vRfENR",
        "outputId": "1e3c8544-1966-4c40-ae79-f80fdc89e25b"
      },
      "execution_count": null,
      "outputs": [
        {
          "output_type": "error",
          "ename": "IndentationError",
          "evalue": "ignored",
          "traceback": [
            "\u001b[0;36m  File \u001b[0;32m\"<ipython-input-12-37df9a2640b7>\"\u001b[0;36m, line \u001b[0;32m23\u001b[0m\n\u001b[0;31m    if abs_re.search(line): # 여기서부터 메타데이터이므로 line을 별도 저장하고 넘어감\u001b[0m\n\u001b[0m    ^\u001b[0m\n\u001b[0;31mIndentationError\u001b[0m\u001b[0;31m:\u001b[0m expected an indented block\n"
          ]
        }
      ]
    },
    {
      "cell_type": "code",
      "source": [
        ""
      ],
      "metadata": {
        "id": "a8dYKP6lsQnl"
      },
      "execution_count": null,
      "outputs": []
    }
  ]
}